{
 "cells": [
  {
   "cell_type": "markdown",
   "id": "97c934a9",
   "metadata": {},
   "source": [
    "# 8 Queen's Problem Solution"
   ]
  },
  {
   "cell_type": "code",
   "execution_count": 23,
   "id": "e7e0c87c",
   "metadata": {},
   "outputs": [],
   "source": [
    "import random\n",
    "\n",
    "\n",
    "def random_pick(population, probabilities):\n",
    "    population_probability = zip(population, probabilities)\n",
    "    total = sum(gene for chromosome_part, gene in population_probability)\n",
    "    random_value = random.uniform(0, total)\n",
    "    max_limit = 0\n",
    "    for pop, prob in zip(population, probabilities):\n",
    "        if max_limit + prob >= random_value:\n",
    "            return pop\n",
    "        max_limit += prob"
   ]
  },
  {
   "cell_type": "code",
   "execution_count": 24,
   "id": "4302c5a9",
   "metadata": {},
   "outputs": [],
   "source": [
    "def compute_fitness(chromosome):\n",
    "    row_collisions = sum([chromosome.count(queen) - 1 for queen in chromosome]) / 2\n",
    "\n",
    "    length_of_chromosome = len(chromosome)\n",
    "    principal_diagonal = [0] * 2 * length_of_chromosome\n",
    "    secondary_diagonal = [0] * 2 * length_of_chromosome\n",
    "    for i in range(length_of_chromosome):\n",
    "        principal_diagonal[i + chromosome[i] - 1] += 1\n",
    "        secondary_diagonal[len(chromosome) - i + chromosome[i] - 2] += 1\n",
    "\n",
    "    diagonal_collisions = 0\n",
    "\n",
    "    for i in range(2 * length_of_chromosome - 1):\n",
    "        counter = 0\n",
    "        if principal_diagonal[i] > 1:\n",
    "            counter += principal_diagonal[i] - 1\n",
    "        if secondary_diagonal[i] > 1:\n",
    "            counter += secondary_diagonal[i] - 1\n",
    "        diagonal_collisions += counter / (length_of_chromosome - abs(i - length_of_chromosome + 1))\n",
    "\n",
    "    return int(maximum_fitness_value - (row_collisions + diagonal_collisions))\n",
    "\n",
    "\n",
    "def generate_chromosome_randomly():\n",
    "    return [random.randint(1, number_of_queens) for _ in range(number_of_queens)]\n",
    "\n",
    "\n",
    "\n",
    "\n"
   ]
  },
  {
   "cell_type": "code",
   "execution_count": 25,
   "id": "8b013595",
   "metadata": {},
   "outputs": [],
   "source": [
    "def perform_mutation(chrom1):\n",
    "    length_of_chrom1 = len(chrom1)\n",
    "    c = random.randint(0, length_of_chrom1 - 1)\n",
    "    m = random.randint(1, length_of_chrom1)\n",
    "    chrom1[c] = m\n",
    "    return chrom1\n",
    "\n",
    "\n",
    "def perform_crossover(chrom1, chrom2):\n",
    "    chromo_length = len(chrom1)\n",
    "    sele_chromo = random.randint(0, chromo_length - 1)\n",
    "    return chrom1[0:sele_chromo] + chrom2[sele_chromo:chromo_length]\n",
    "\n",
    "\n",
    "def calculate_probability(chromosome, fitness):\n",
    "    prob = fitness(chromosome) / maximum_fitness_value\n",
    "    return prob\n",
    "\n"
   ]
  },
  {
   "cell_type": "code",
   "execution_count": 26,
   "id": "1a47f736",
   "metadata": {},
   "outputs": [],
   "source": [
    "def set_queen(population, resultant_population, fitness, probabilities, prob_of_mutation):\n",
    "    for i in range(len(population)):\n",
    "        chromosome1 = random_pick(population, probabilities)\n",
    "        chromosome2 = random_pick(population, probabilities)\n",
    "        new_chromosome = perform_crossover(chromosome1, chromosome2)\n",
    "        if random.random() < prob_of_mutation:\n",
    "            new_chromosome = perform_mutation(new_chromosome)\n",
    "        resultant_population.append(new_chromosome)\n",
    "        if fitness(new_chromosome) == maximum_fitness_value:\n",
    "            break\n",
    "    return resultant_population\n",
    "\n",
    "\n",
    "def genetic_queen(population, fitness):\n",
    "    prob_of_mutation = 0.05\n",
    "    resultant_population = []\n",
    "    probabilities = [calculate_probability(n, fitness) for n in population]\n",
    "    result = set_queen(population, resultant_population, fitness, probabilities, prob_of_mutation)\n",
    "    return result\n",
    "\n",
    "\n",
    "def generate_final_result():\n",
    "    final_chromosomes = []\n",
    "    print(\"\\nThe 8 queens problem is solved in {} Generation/s.\".format(generation - 1))\n",
    "    for temp_chromosome in initial_population:\n",
    "        if maximum_fitness_value == compute_fitness(temp_chromosome):\n",
    "            final_chromosomes = temp_chromosome\n",
    "    return final_chromosomes\n",
    "\n",
    "\n"
   ]
  },
  {
   "cell_type": "code",
   "execution_count": 27,
   "id": "d493c69a",
   "metadata": {},
   "outputs": [],
   "source": [
    "def display_chess_board(final_chromosomes):\n",
    "    chess_board = []\n",
    "\n",
    "    print(\"\\nThe selected/generated solution is : \")\n",
    "\n",
    "    for x in range(number_of_queens):\n",
    "        chess_board.append([\"-\"] * number_of_queens)\n",
    "\n",
    "    for i in range(number_of_queens):\n",
    "        chess_board[number_of_queens - final_chromosomes[i]][i] = \"Q\"\n",
    "\n",
    "    for r in chess_board:\n",
    "        print(\" \".join(r))"
   ]
  },
  {
   "cell_type": "code",
   "execution_count": 28,
   "id": "c4a38cbd",
   "metadata": {},
   "outputs": [
    {
     "name": "stdout",
     "output_type": "stream",
     "text": [
      "\n",
      "The 8 queens problem is solved in 91 Generation/s.\n",
      "\n",
      "The selected/generated solution is : \n",
      "- - - - - - Q -\n",
      "Q - - - - - - -\n",
      "- - Q - - - - -\n",
      "- - - - - - - Q\n",
      "- - - - - Q - -\n",
      "- - - Q - - - -\n",
      "- Q - - - - - -\n",
      "- - - - Q - - -\n"
     ]
    }
   ],
   "source": [
    "if __name__ == \"__main__\":\n",
    "    number_of_queens = 8\n",
    "    maximum_fitness_value = (number_of_queens * (number_of_queens - 1)) / 2\n",
    "    initial_population = [generate_chromosome_randomly() for _ in range(100)]\n",
    "    generation = 1\n",
    "\n",
    "    while not maximum_fitness_value in [compute_fitness(chromosome) for chromosome in initial_population]:\n",
    "        initial_population = genetic_queen(initial_population, compute_fitness)\n",
    "        generation += 1\n",
    "\n",
    "    final_chromosomes = generate_final_result()\n",
    "\n",
    "    display_chess_board(final_chromosomes)"
   ]
  }
 ],
 "metadata": {
  "kernelspec": {
   "display_name": "Python 3 (ipykernel)",
   "language": "python",
   "name": "python3"
  },
  "language_info": {
   "codemirror_mode": {
    "name": "ipython",
    "version": 3
   },
   "file_extension": ".py",
   "mimetype": "text/x-python",
   "name": "python",
   "nbconvert_exporter": "python",
   "pygments_lexer": "ipython3",
   "version": "3.9.7"
  }
 },
 "nbformat": 4,
 "nbformat_minor": 5
}
